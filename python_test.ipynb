{
  "nbformat": 4,
  "nbformat_minor": 0,
  "metadata": {
    "colab": {
      "provenance": [],
      "authorship_tag": "ABX9TyN163ijGE+c4sryUQmg+uGb",
      "include_colab_link": true
    },
    "kernelspec": {
      "name": "python3",
      "display_name": "Python 3"
    },
    "language_info": {
      "name": "python"
    }
  },
  "cells": [
    {
      "cell_type": "markdown",
      "metadata": {
        "id": "view-in-github",
        "colab_type": "text"
      },
      "source": [
        "<a href=\"https://colab.research.google.com/github/dizecto/CKA-practice-exercises/blob/CKA-v1.17/python_test.ipynb\" target=\"_parent\"><img src=\"https://colab.research.google.com/assets/colab-badge.svg\" alt=\"Open In Colab\"/></a>"
      ]
    },
    {
      "cell_type": "code",
      "execution_count": 4,
      "metadata": {
        "colab": {
          "base_uri": "https://localhost:8080/"
        },
        "id": "ObYZ4zrkOGm8",
        "outputId": "5bc4e1ad-5c6a-459d-c7d9-56d60cf5f882"
      },
      "outputs": [
        {
          "output_type": "stream",
          "name": "stdout",
          "text": [
            "[0.14552705 0.91578241 0.32838675 0.76714213 0.41730809 0.485182\n",
            " 0.38430661 0.76186978 0.72994706 0.48572673]\n",
            "[ True False False False False False False False False False]\n",
            "[False  True  True  True  True  True  True  True  True  True]\n"
          ]
        }
      ],
      "source": [
        "import numpy as np\n",
        "\n",
        "a = np.random.rand(10)\n",
        "b = a < 0.3\n",
        "c = ~b\n",
        "\n",
        "print(a)\n",
        "print(b)\n",
        "print(c)\n"
      ]
    }
  ]
}